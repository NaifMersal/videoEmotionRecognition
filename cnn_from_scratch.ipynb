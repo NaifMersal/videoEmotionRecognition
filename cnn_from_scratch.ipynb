{
 "cells": [
  {
   "cell_type": "code",
   "execution_count": 1,
   "metadata": {},
   "outputs": [
    {
     "name": "stdout",
     "output_type": "stream",
     "text": [
      "GPU available\n",
      "data/Neutral\n",
      "data/Calm\n",
      "data/Happy\n",
      "data/Sad\n",
      "data/Angry\n",
      "data/Fearful\n",
      "data/Disgust\n",
      "data/Surprised\n"
     ]
    }
   ],
   "source": [
    "from src.helpers import setup_env\n",
    "\n",
    "# If running locally, this will download dataset (make sure you have at \n",
    "# least 2 Gb of space on your hard drive)\n",
    "setup_env()"
   ]
  },
  {
   "cell_type": "code",
   "execution_count": 1,
   "metadata": {},
   "outputs": [
    {
     "name": "stdout",
     "output_type": "stream",
     "text": [
      "Dataset mean: tensor([0.4850, 0.4560, 0.4060]), std: tensor([0.2290, 0.2240, 0.2250])\n",
      "626\n"
     ]
    }
   ],
   "source": [
    "%matplotlib inline\n",
    "from src.data import visualize_one_batch, get_data_loaders\n",
    "\n",
    "# use get_data_loaders to get the data_loaders dictionary. Use a batch_size\n",
    "# of 5, a validation size of 0.01 and num_workers=-1 (all CPUs)\n",
    "data_loaders = get_data_loaders(batch_size=2048, num_workers=2)\n",
    "print(len(data_loaders['train']))"
   ]
  },
  {
   "cell_type": "code",
   "execution_count": 2,
   "metadata": {},
   "outputs": [
    {
     "data": {
      "text/plain": [
       "863"
      ]
     },
     "execution_count": 2,
     "metadata": {},
     "output_type": "execute_result"
    }
   ],
   "source": [
    "images, labels=next(iter(data_loaders['train']))\n",
    "len(labels.unique())"
   ]
  },
  {
   "cell_type": "code",
   "execution_count": 3,
   "metadata": {},
   "outputs": [
    {
     "data": {
      "text/plain": [
       "1024"
      ]
     },
     "execution_count": 3,
     "metadata": {},
     "output_type": "execute_result"
    }
   ],
   "source": [
    "len(labels)"
   ]
  },
  {
   "cell_type": "code",
   "execution_count": 3,
   "metadata": {},
   "outputs": [],
   "source": [
    "\n",
    "visualize_one_batch(data_loaders)"
   ]
  },
  {
   "cell_type": "code",
   "execution_count": 1,
   "metadata": {},
   "outputs": [],
   "source": [
    "batch_size = 1024  # size of the minibatch for stochastic gradient descent (or Adam)\n",
    "num_epochs = 25      # number of epochs for training\n",
    "num_classes = 1000       # number of classes. Do not change this\n",
    "learning_rate = 0.05  # Learning rate for SGD (or Adam)\n",
    "opt = 'sgd'            # optimizer. 'sgd' or 'adam'\n",
    "weight_decay = 0.001     # regularization. Increase this to combat overfitting\n",
    "momentum=0.8             "
   ]
  },
  {
   "cell_type": "code",
   "execution_count": 2,
   "metadata": {},
   "outputs": [
    {
     "name": "stdout",
     "output_type": "stream",
     "text": [
      "Dataset mean: tensor([0.4850, 0.4560, 0.4060]), std: tensor([0.2290, 0.2240, 0.2250])\n"
     ]
    }
   ],
   "source": [
    "from src.data import get_data_loaders\n",
    "from src.train import optimize\n",
    "from src.optimization import get_optimizer, get_loss\n",
    "from src.model import MyModel3\n",
    "import torch\n",
    "# get the data loaders using batch_size and valid_size defined in the previous\n",
    "# cell\n",
    "# HINT: do NOT copy/paste the values. Use the variables instead\n",
    "data_loaders = get_data_loaders(batch_size=batch_size)\n",
    "torch.backends.cuda.matmul.allow_tf32=True\n",
    "torch.backends.cudnn.allow_tf32=True\n",
    "# instance model MyModel with num_classes and drouput defined in the previous\n",
    "# cell\n",
    "model = MyModel3(num_classes=num_classes)\n",
    "model.load_state_dict(torch.load('checkpoints/M3_best_val_loss.pt'))\n",
    "\n",
    "# Get the optimizer using get_optimizer and the model you just created, the learning rate,\n",
    "# the optimizer and the weight decay specified in the previous cell\n",
    "optimizer = get_optimizer(model, optimizer=opt, learning_rate=learning_rate,momentum=momentum,weight_decay=weight_decay)"
   ]
  },
  {
   "cell_type": "code",
   "execution_count": 3,
   "metadata": {},
   "outputs": [
    {
     "name": "stderr",
     "output_type": "stream",
     "text": [
      "Training:   0%|                                        | 0/1252 [00:00<?, ?it/s]"
     ]
    }
   ],
   "source": [
    "\n",
    "# Get the loss using get_loss\n",
    "loss = get_loss()\n",
    "\n",
    "optimize(\n",
    "    data_loaders,\n",
    "    model,\n",
    "    optimizer,\n",
    "    loss,\n",
    "    n_epochs=num_epochs,\n",
    "    save_path=\"checkpoints/M3_best_val_loss.pt\",\n",
    "    run_logs=True,\n",
    "    patience=2\n",
    ")"
   ]
  },
  {
   "cell_type": "code",
   "execution_count": 3,
   "metadata": {},
   "outputs": [
    {
     "name": "stderr",
     "output_type": "stream",
     "text": [
      "Testing: 100%|████████████████████████████████| 144/144 [00:13<00:00, 10.40it/s]"
     ]
    },
    {
     "name": "stdout",
     "output_type": "stream",
     "text": [
      "Test Loss: 0.160225\n",
      "\n",
      "\n",
      "Test Accuracy: 91% (4188/4600)\n"
     ]
    },
    {
     "name": "stderr",
     "output_type": "stream",
     "text": [
      "\n"
     ]
    },
    {
     "data": {
      "text/plain": [
       "0.1602245857163023"
      ]
     },
     "execution_count": 3,
     "metadata": {},
     "output_type": "execute_result"
    }
   ],
   "source": [
    "\n",
    "from src.train import one_epoch_test\n",
    "one_epoch_test(data_loaders['test'], model, loss)"
   ]
  },
  {
   "cell_type": "code",
   "execution_count": 5,
   "metadata": {},
   "outputs": [],
   "source": [
    "torch.save(model.state_dict(),'checkpoints/v2_best_val_loss.pt')"
   ]
  },
  {
   "cell_type": "code",
   "execution_count": 1,
   "metadata": {},
   "outputs": [
    {
     "name": "stdout",
     "output_type": "stream",
     "text": [
      "Reusing cached mean and std\n",
      "Dataset mean: tensor([0.4690, 0.3993, 0.3567]), std: tensor([0.3180, 0.3058, 0.3087])\n",
      "Reusing cached mean and std\n"
     ]
    },
    {
     "name": "stderr",
     "output_type": "stream",
     "text": [
      "/home/naif/miniconda3/envs/MLenv/lib/python3.9/site-packages/torchvision/models/_utils.py:208: UserWarning: The parameter 'pretrained' is deprecated since 0.13 and will be removed in 0.15, please use 'weights' instead.\n",
      "  warnings.warn(\n",
      "/home/naif/miniconda3/envs/MLenv/lib/python3.9/site-packages/torchvision/models/_utils.py:223: UserWarning: Arguments other than a weight enum or `None` for 'weights' are deprecated since 0.13 and will be removed in 0.15. The current behavior is equivalent to passing `weights=ShuffleNet_V2_X1_0_Weights.IMAGENET1K_V1`. You can also use `weights=ShuffleNet_V2_X1_0_Weights.DEFAULT` to get the most up-to-date weights.\n",
      "  warnings.warn(msg)\n"
     ]
    }
   ],
   "source": [
    "# NOTE: you might need to restart the notebook before running this step\n",
    "# If you get an error about RuntimeError: Can't redefine method: forward on class\n",
    "# restart your notebook then execute only this cell\n",
    "from src.predictor import Predictor\n",
    "from src.helpers import compute_mean_and_std\n",
    "from src.model import MyModel4\n",
    "from src.data import get_data_loaders\n",
    "import torch\n",
    "\n",
    "data_loaders = get_data_loaders(batch_size=1)\n",
    "\n",
    "# First let's get the class names from our data loaders\n",
    "class_names = data_loaders[\"train\"].dataset.classes\n",
    "\n",
    "\n",
    "# Then let's move the model_transfer to the CPU\n",
    "# (we don't need GPU for inference)\n",
    "model = MyModel4(num_classes=1).cpu()\n",
    "\n",
    "# Let's make sure we use the right weights by loading the\n",
    "# best weights we have found during training\n",
    "# NOTE: remember to use map_location='cpu' so the weights\n",
    "# are loaded on the CPU (and not the GPU)\n",
    "\n",
    "model.load_state_dict(torch.load('checkpoints/v4_best_val_loss.pt'))\n",
    "\n",
    "# Let's wrap our model using the predictor class\n",
    "mean, std = compute_mean_and_std()\n",
    "predictor = Predictor(model, class_names, mean, std).cpu()\n",
    "\n",
    "\n",
    "# dummy_input = torch.zeros(1,3,256,256)\n",
    "# # inputs = ['images']\n",
    "# # outputs = ['scores']\n",
    "# # dynamic_axes= {'input':{0:'batch_size' , 2:'width', 3:'height'}, 'output':{0:'batch_size' , 2:'width', 3:'height'}}\n",
    "# torch.onnx.export(predictor, dummy_input, 'model.onnx', verbose=True)\n",
    "\n",
    "\n",
    "# Export using torch.jit.script\n",
    "scripted_predictor =torch.jit.script(predictor) \n",
    "\n",
    "scripted_predictor.save(\"checkpoints/original_exported.pt\")"
   ]
  },
  {
   "cell_type": "code",
   "execution_count": 14,
   "metadata": {},
   "outputs": [
    {
     "name": "stderr",
     "output_type": "stream",
     "text": [
      "  0%|                                          | 1/1819 [00:00<03:16,  9.26it/s]/home/naif/miniconda3/envs/MLenv/lib/python3.9/site-packages/torch/nn/modules/module.py:1130: UserWarning: operator() profile_node %373 : int = prim::profile_ivalue(%out_dtype.1)\n",
      " does not have profile information (Triggered internally at  /home/conda/feedstock_root/build_artifacts/pytorch-recipe_1664405705473/work/torch/csrc/jit/codegen/cuda/graph_fuser.cpp:104.)\n",
      "  return forward_call(*input, **kwargs)\n",
      "100%|███████████████████████████████████████| 1819/1819 [00:38<00:00, 47.69it/s]"
     ]
    },
    {
     "name": "stdout",
     "output_type": "stream",
     "text": [
      "Accuracy: 0.8834524463991204\n"
     ]
    },
    {
     "name": "stderr",
     "output_type": "stream",
     "text": [
      "\n"
     ]
    }
   ],
   "source": [
    "from src.predictor import predictor_test\n",
    "\n",
    "pred, truth = predictor_test(data_loaders['test'], model_reloaded)"
   ]
  },
  {
   "cell_type": "markdown",
   "metadata": {},
   "source": [
    "Finally, let's have a look at the confusion matrix of the model we are going to use in production:"
   ]
  },
  {
   "cell_type": "code",
   "execution_count": 15,
   "metadata": {},
   "outputs": [
    {
     "data": {
      "image/png": "[encoded data removed]",
      "text/plain": [
       "<Figure size 1400x1200 with 1 Axes>"
      ]
     },
     "metadata": {},
     "output_type": "display_data"
    }
   ],
   "source": [
    "from src.helpers import plot_confusion_matrix\n",
    "\n",
    "plot_confusion_matrix(pred, truth)"
   ]
  },
  {
   "cell_type": "code",
   "execution_count": null,
   "metadata": {},
   "outputs": [],
   "source": []
  }
 ],
 "metadata": {
  "kernelspec": {
   "display_name": "Python 3",
   "language": "python",
   "name": "python3"
  },
  "language_info": {
   "codemirror_mode": {
    "name": "ipython",
    "version": 3
   },
   "file_extension": ".py",
   "mimetype": "text/x-python",
   "name": "python",
   "nbconvert_exporter": "python",
   "pygments_lexer": "ipython3",
   "version": "3.11.0"
  },
  "widgets": {
   "application/vnd.jupyter.widget-state+json": {
    "state": {},
    "version_major": 2,
    "version_minor": 0
   }
  }
 },
 "nbformat": 4,
 "nbformat_minor": 4
}
